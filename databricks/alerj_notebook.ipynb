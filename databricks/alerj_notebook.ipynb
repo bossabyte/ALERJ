{
 "cells": [
  {
   "cell_type": "code",
   "execution_count": 0,
   "metadata": {
    "application/vnd.databricks.v1+cell": {
     "cellMetadata": {
      "byteLimit": 2048000,
      "rowLimit": 10000
     },
     "inputWidgets": {},
     "nuid": "a38bbec6-4c83-4975-914d-76e1d89fefb3",
     "showTitle": false,
     "title": ""
    }
   },
   "outputs": [],
   "source": [
    "# spark.conf.set(\"spark.hadoop.google.cloud.auth.service.account.enable\", \"true\")\n",
    "# spark.conf.set(\"spark.hadoop.fs.gs.auth.service.account.email\", \"bucket-bigquery@leafy-environs-409823.iam.gserviceaccount.com\")\n",
    "# spark.conf.set(\"spark.hadoop.fs.gs.project.id\", \"leafy-environs-409823\")\n",
    "# spark.conf.set(\"spark.hadoop.fs.gs.auth.service.account.private.key\", dbutils.secrets.get(scope='gcp-bucket', key='databricks-bucket-key'))\n",
    "# spark.conf.set(\"spark.hadoop.fs.gs.auth.service.account.private.key.id\", dbutils.secrets.get(scope='gcp-bucket', key='databricks-bucket-key_id'))"
   ]
  },
  {
   "cell_type": "code",
   "execution_count": 0,
   "metadata": {
    "application/vnd.databricks.v1+cell": {
     "cellMetadata": {
      "byteLimit": 2048000,
      "rowLimit": 10000
     },
     "inputWidgets": {},
     "nuid": "f1ff825c-bbf3-43d2-a98e-38239e141746",
     "showTitle": false,
     "title": ""
    }
   },
   "outputs": [],
   "source": [
    "from datetime import datetime\n",
    "import re\n",
    "from pathlib import Path\n",
    "from pyspark.sql.functions import col, when, regexp_replace, lit"
   ]
  },
  {
   "cell_type": "code",
   "execution_count": 0,
   "metadata": {
    "application/vnd.databricks.v1+cell": {
     "cellMetadata": {
      "byteLimit": 2048000,
      "rowLimit": 10000
     },
     "inputWidgets": {},
     "nuid": "5eba571e-7979-43dd-bcc8-90f2382b0577",
     "showTitle": false,
     "title": ""
    }
   },
   "outputs": [],
   "source": [
    "# GCP secret -> steps to install\n",
    "# databricks configure --token\n",
    "# databricks secrets create-scope gcp-bucket --initial-manage-principal users\n",
    "# databricks secrets put-secret gcp-bucket databricks-bucket-key\n",
    "# databricks secrets put-secret gcp-bucket databricks-bucket-key_id\n",
    "# Add config on Cluster Spark config https://docs.gcp.databricks.com/en/connect/storage/gcs.html\n",
    "\n",
    "print(dbutils.secrets.listScopes())\n",
    "print(dbutils.secrets.list('gcp-bucket'))\n",
    "\n",
    "dbutils.fs.ls(\"gs://bossa-bucket-coutj/\")\n"
   ]
  },
  {
   "cell_type": "code",
   "execution_count": 0,
   "metadata": {
    "application/vnd.databricks.v1+cell": {
     "cellMetadata": {
      "byteLimit": 2048000,
      "rowLimit": 10000
     },
     "inputWidgets": {},
     "nuid": "55e8bff2-63e5-45ad-a570-e3ba4958790a",
     "showTitle": false,
     "title": ""
    }
   },
   "outputs": [],
   "source": [
    "\n",
    "#READING datasus raw data parquet\n",
    "\n",
    "dbutils.widgets.text(\"file_name\", \"\", \"Enter file_name\")\n",
    "file_name = dbutils.widgets.get('file_name') or '2016/folha_2016_1.parquet'\n",
    "# print(file_name)\n",
    "df = spark.read.parquet(f\"gs://bossa-bucket-coutj/raw/{file_name}\")"
   ]
  },
  {
   "cell_type": "code",
   "execution_count": 0,
   "metadata": {
    "application/vnd.databricks.v1+cell": {
     "cellMetadata": {
      "byteLimit": 2048000,
      "rowLimit": 10000
     },
     "inputWidgets": {},
     "nuid": "83508e43-b779-4d26-91ab-7d8dccabffa8",
     "showTitle": false,
     "title": ""
    }
   },
   "outputs": [],
   "source": [
    "# Remove \"-\"\n",
    "\n",
    "for column in df.columns:\n",
    "    # print(column)\n",
    "    df = df.withColumn(column, when( col(column)=='-', None).otherwise(col(column)))\n",
    "    \n",
    "# display(df)"
   ]
  },
  {
   "cell_type": "code",
   "execution_count": 0,
   "metadata": {
    "application/vnd.databricks.v1+cell": {
     "cellMetadata": {
      "byteLimit": 2048000,
      "rowLimit": 10000
     },
     "inputWidgets": {},
     "nuid": "18c6c055-f5ad-4e64-a10d-6f5a84f5bf3b",
     "showTitle": false,
     "title": ""
    }
   },
   "outputs": [],
   "source": [
    "# Fix currency format and cast string values to float\n",
    "numeric_columns = [col for col in df.columns if col not in ['nome', 'cargo', 'funcao']]\n",
    "\n",
    "for column in numeric_columns:\n",
    "    df = df.withColumn(\n",
    "                column, regexp_replace(col(column), \"\\.\", \"\")\n",
    "                ).withColumn(column, regexp_replace(column, \",\", \".\").cast(\"float\"))\n"
   ]
  },
  {
   "cell_type": "code",
   "execution_count": 0,
   "metadata": {
    "application/vnd.databricks.v1+cell": {
     "cellMetadata": {
      "byteLimit": 2048000,
      "rowLimit": 10000
     },
     "inputWidgets": {},
     "nuid": "4add3f19-a9c9-44f1-b0cd-b547b81a0494",
     "showTitle": false,
     "title": ""
    }
   },
   "outputs": [],
   "source": [
    "# Fix column names\n",
    "\n",
    "for column in df.columns:\n",
    "    df = df.withColumnRenamed(column, column.replace(\"__\", \"_\"))"
   ]
  },
  {
   "cell_type": "code",
   "execution_count": 0,
   "metadata": {
    "application/vnd.databricks.v1+cell": {
     "cellMetadata": {
      "byteLimit": 2048000,
      "rowLimit": 10000
     },
     "inputWidgets": {},
     "nuid": "434a477b-5ec4-411d-8ebf-754bcb0f696d",
     "showTitle": false,
     "title": ""
    }
   },
   "outputs": [],
   "source": [
    "# Define data date\n",
    "\n",
    "date_str = re.search(r\"(?<=folha_)(.*)(?=\\.parquet)\",file_name).group(0).split('_')\n",
    "date = datetime.strptime(f\"{date_str[0]}/{date_str[1]}/1\",\"%Y/%m/%d\")\n",
    "table_name = f\"{date_str[0]}_{date_str[1]}\"\n",
    "# Add date column\n",
    "df = df.withColumn('date',lit(date))"
   ]
  },
  {
   "cell_type": "code",
   "execution_count": 0,
   "metadata": {
    "application/vnd.databricks.v1+cell": {
     "cellMetadata": {
      "byteLimit": 2048000,
      "rowLimit": 10000
     },
     "inputWidgets": {},
     "nuid": "6b93839e-9cf9-477a-a43d-3f54d1e5e09b",
     "showTitle": false,
     "title": ""
    }
   },
   "outputs": [],
   "source": [
    "# Remove rows with empty names\n",
    "\n",
    "df = df.na.drop(subset=['nome'])\n"
   ]
  },
  {
   "cell_type": "code",
   "execution_count": 0,
   "metadata": {
    "application/vnd.databricks.v1+cell": {
     "cellMetadata": {
      "byteLimit": 2048000,
      "rowLimit": 10000
     },
     "inputWidgets": {},
     "nuid": "3cdd04ea-b5b2-4492-b7e2-96c55797033b",
     "showTitle": false,
     "title": ""
    }
   },
   "outputs": [],
   "source": [
    "# Write dataframe to Bigquery:\n",
    "\n",
    "(df.write.format(\"bigquery\")\n",
    "    .mode(\"overwrite\")\n",
    "    .option(\"project\", 'leafy-environs-409823')\n",
    "    .option(\"parentProject\", 'leafy-environs-409823')\n",
    "    .option(\"temporaryGcsBucket\",\"bossa-bucket-coutj\")\n",
    "    .option(\"table\",f\"leafy-environs-409823.alerj_ds.alerj_{table_name}\")\n",
    "    .save())"
   ]
  },
  {
   "cell_type": "code",
   "execution_count": 0,
   "metadata": {
    "application/vnd.databricks.v1+cell": {
     "cellMetadata": {
      "byteLimit": 2048000,
      "rowLimit": 10000
     },
     "inputWidgets": {},
     "nuid": "54ae0cca-86f2-4aa0-9476-6ef75e3d40c3",
     "showTitle": false,
     "title": ""
    }
   },
   "outputs": [],
   "source": [
    "df.write.mode('overwrite').parquet(f'gs://bossa-bucket-coutj/trusted/{file_name}')"
   ]
  }
 ],
 "metadata": {
  "application/vnd.databricks.v1+notebook": {
   "dashboards": [],
   "language": "python",
   "notebookMetadata": {
    "pythonIndentUnit": 4
   },
   "notebookName": "alerj_notebook",
   "widgets": {
    "file_name": {
     "currentValue": "",
     "nuid": "29a7b234-cc1c-4f35-9bb4-09160fff663d",
     "widgetInfo": {
      "widgetType": "text",
      "defaultValue": "",
      "label": "Enter file_name",
      "name": "file_name",
      "options": {
       "widgetType": "text",
       "autoCreated": null,
       "validationRegex": null
      }
     }
    }
   }
  },
  "language_info": {
   "name": "python"
  }
 },
 "nbformat": 4,
 "nbformat_minor": 0
}
